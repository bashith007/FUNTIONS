{
 "cells": [
  {
   "cell_type": "code",
   "execution_count": 2,
   "id": "d4f363ca",
   "metadata": {
    "scrolled": true
   },
   "outputs": [
    {
     "name": "stdout",
     "output_type": "stream",
     "text": [
      "Sub-fields in AI are!\n",
      "Machine Learing\n",
      "Neural Network\n",
      "Vision\n",
      "Robotics\n",
      "Speech Processing\n",
      "Natural Language Processing\n",
      "Enter The number:0\n",
      "The number is Even\n",
      "Enter Your Gender:MALE\n",
      "Enter you age:14\n",
      "Not Eligible\n",
      "Enter Your Gender:MALE\n",
      "Enter you age:25\n",
      "Eligible\n",
      "Height of triangle:1\n",
      "breadth of triangle:2\n",
      "1.0\n",
      "Height of triangle:3\n",
      "breadth of triangle:1\n",
      "Height1 of triangle:2\n",
      "6\n"
     ]
    }
   ],
   "source": [
    "def subfields(a):\n",
    "    print(a)\n",
    "subfields(\"Sub-fields in AI are!\")\n",
    "subfields(\"Machine Learing\")\n",
    "subfields(\"Neural Network\")\n",
    "subfields(\"Vision\")\n",
    "subfields(\"Robotics\")\n",
    "subfields(\"Speech Processing\")\n",
    "subfields(\"Natural Language Processing\")\n",
    "\n",
    "#oddeven\n",
    "def oddeven():\n",
    "    num=int(input(\"Enter The number:\"))\n",
    "    if((num%2)==1):\n",
    "      print(\"This is odd number\")\n",
    "    else:\n",
    "        print(\"The number is Even\")\n",
    "oddeven()\n",
    "\n",
    "#ELIGIBILE\n",
    "def Elegible():\n",
    "    gen=input(\"Enter Your Gender:\")\n",
    "    age=int(input(\"Enter you age:\"))\n",
    "    if ((age<=18)):\n",
    "        print(\"Not Eligible\")\n",
    "    else:\n",
    "        print(\"Eligible\")\n",
    "Elegible()\n",
    "\n",
    "def Elegible():\n",
    "    gen=input(\"Enter Your Gender:\")\n",
    "    age=int(input(\"Enter you age:\"))\n",
    "    c=(gen,age)\n",
    "    if ((age<=18)):\n",
    "        print(\"Not Eligible\")\n",
    "    else:\n",
    "        print(\"Eligible\")\n",
    "        return c\n",
    "Elegible()\n",
    "\n",
    "#Traiangle\n",
    "def Triangle():\n",
    "    Hit=int(input(\"Height of triangle:\"))\n",
    "    Bre=int(input(\"breadth of triangle:\"))\n",
    "    Af=(Hit*Bre/2)\n",
    "    print(Af)\n",
    "Triangle()\n",
    "\n",
    "\n",
    "def Triangle():\n",
    "    Hit=int(input(\"Height of triangle:\"))\n",
    "    Bre=int(input(\"breadth of triangle:\"))\n",
    "    Hit1=int(input(\"Height1 of triangle:\"))\n",
    "    Af=(Hit+Hit1+Bre)\n",
    "    print(Af)\n",
    "Triangle()\n"
   ]
  },
  {
   "cell_type": "code",
   "execution_count": null,
   "id": "db48b854",
   "metadata": {},
   "outputs": [],
   "source": []
  },
  {
   "cell_type": "code",
   "execution_count": null,
   "id": "2eba8f88",
   "metadata": {},
   "outputs": [],
   "source": []
  }
 ],
 "metadata": {
  "kernelspec": {
   "display_name": "Python 3 (ipykernel)",
   "language": "python",
   "name": "python3"
  },
  "language_info": {
   "codemirror_mode": {
    "name": "ipython",
    "version": 3
   },
   "file_extension": ".py",
   "mimetype": "text/x-python",
   "name": "python",
   "nbconvert_exporter": "python",
   "pygments_lexer": "ipython3",
   "version": "3.9.13"
  }
 },
 "nbformat": 4,
 "nbformat_minor": 5
}
