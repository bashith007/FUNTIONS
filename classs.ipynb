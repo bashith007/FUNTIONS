{
 "cells": [
  {
   "cell_type": "code",
   "execution_count": 1,
   "id": "d0d085fc",
   "metadata": {},
   "outputs": [],
   "source": [
    "class master():\n",
    " def car():\n",
    "   weight=float(input(\"Enter BMI:\"))\n",
    "   if(weight>=18.4):\n",
    "    print(\"over weight\")\n",
    "   else:\n",
    "    print(\"Normal weight\")\n",
    "\n",
    " def bike():\n",
    "     name = input(\"Enter your institute name?:\")\n",
    "     print(\"This is \", name)\n",
    "\n",
    " def mass():\n",
    "    name = input(\"Enter your name:\")\n",
    "    age = input(\"Enter your age:\")\n",
    "    school = input(\"Enter your school name\")\n",
    "    drgree = input(\"Enter your drgree:\")\n",
    "    print(name)\n",
    "    print(age)\n",
    "    print(school)\n",
    "    print(drgree)"
   ]
  },
  {
   "cell_type": "code",
   "execution_count": null,
   "id": "d4c18d1b",
   "metadata": {},
   "outputs": [],
   "source": []
  },
  {
   "cell_type": "code",
   "execution_count": null,
   "id": "966d9103",
   "metadata": {},
   "outputs": [],
   "source": []
  },
  {
   "cell_type": "code",
   "execution_count": null,
   "id": "003119b1",
   "metadata": {},
   "outputs": [],
   "source": []
  }
 ],
 "metadata": {
  "kernelspec": {
   "display_name": "Python 3 (ipykernel)",
   "language": "python",
   "name": "python3"
  },
  "language_info": {
   "codemirror_mode": {
    "name": "ipython",
    "version": 3
   },
   "file_extension": ".py",
   "mimetype": "text/x-python",
   "name": "python",
   "nbconvert_exporter": "python",
   "pygments_lexer": "ipython3",
   "version": "3.9.13"
  }
 },
 "nbformat": 4,
 "nbformat_minor": 5
}
