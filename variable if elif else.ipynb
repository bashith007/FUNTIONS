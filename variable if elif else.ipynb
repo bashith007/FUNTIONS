{
 "cells": [
  {
   "cell_type": "code",
   "execution_count": 1,
   "id": "b1d3c308",
   "metadata": {},
   "outputs": [
    {
     "name": "stdout",
     "output_type": "stream",
     "text": [
      "Enter BMI:5.5\n",
      "under weight\n"
     ]
    }
   ],
   "source": [
    "weight=float(input(\"Enter BMI:\"))\n",
    "if(weight<18.4):\n",
    "    print(\"under weight\")\n",
    "elif(weight<24.9):\n",
    "    print(\"nomal weight\")\n",
    "elif(weight<39.9):\n",
    "    print(\"over weight\")\n",
    "else:\n",
    "    print(\"obese\")\n",
    "    \n",
    "    "
   ]
  },
  {
   "cell_type": "code",
   "execution_count": null,
   "id": "95d97040",
   "metadata": {},
   "outputs": [],
   "source": []
  }
 ],
 "metadata": {
  "kernelspec": {
   "display_name": "Python 3 (ipykernel)",
   "language": "python",
   "name": "python3"
  },
  "language_info": {
   "codemirror_mode": {
    "name": "ipython",
    "version": 3
   },
   "file_extension": ".py",
   "mimetype": "text/x-python",
   "name": "python",
   "nbconvert_exporter": "python",
   "pygments_lexer": "ipython3",
   "version": "3.9.13"
  }
 },
 "nbformat": 4,
 "nbformat_minor": 5
}
